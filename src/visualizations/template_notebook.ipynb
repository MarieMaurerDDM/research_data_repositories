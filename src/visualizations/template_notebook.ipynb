{
 "cells": [
  {
   "cell_type": "markdown",
   "metadata": {},
   "source": [
    "# Forschungsdaten des  ..."
   ]
  },
  {
   "cell_type": "markdown",
   "metadata": {},
   "source": [
    "<a id=\"0\"></a>\n",
    "## Inhalt\n",
    "\n",
    "1. [Statistische Beschreibung des Datensatzes](#1)\n",
    "\n",
    "2. [Univariate Plots](#2)\n",
    "\n",
    "3. [Word Clouds](#3)\n"
   ]
  },
  {
   "cell_type": "markdown",
   "metadata": {},
   "source": [
    "<a id=\"1\"></a>\n",
    "## 1. Statistische Beschreibung des Datensatzes\n",
    "\n",
    "[Zurück zum Anfang](#0)"
   ]
  },
  {
   "cell_type": "markdown",
   "metadata": {},
   "source": [
    "<a id=\"2\"></a>\n",
    "## 2. Univariate Plots\n",
    "\n",
    "[Zurück zum Anfang](#0)\n"
   ]
  },
  {
   "cell_type": "markdown",
   "metadata": {},
   "source": [
    "<a id=\"3\"></a>\n",
    "## 3. Wordclouds\n",
    "\n",
    "[Zurück zum Anfang](#0)"
   ]
  }
 ],
 "metadata": {
  "language_info": {
   "name": "python"
  }
 },
 "nbformat": 4,
 "nbformat_minor": 2
}
