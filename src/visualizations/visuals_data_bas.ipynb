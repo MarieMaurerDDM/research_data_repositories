{
 "cells": [
  {
   "cell_type": "markdown",
   "metadata": {},
   "source": [
    "# Forschungsdaten des  ..."
   ]
  },
  {
   "cell_type": "markdown",
   "metadata": {},
   "source": [
    "# Forschungsdaten des Bayerischen Archivs für Sprachsignale (BAS)\n",
    "\n",
    "<a id=\"0\"></a>\n",
    "## Inhalt\n",
    "\n",
    "1. [Statistische Beschreibung des Datensatzes](#1)\n",
    "\n",
    "2. [Univariate Plots](#2)\n",
    "\n",
    "   2.1. [Forschungsdaten im Zeitverlauf](#2.1)\n",
    "   \n",
    "   2.2. [Verteilung der Urheberschaft](#2.2)\n",
    "\n",
    "   2.3. [Sprachverteilung](#2.3)\n",
    "\n",
    "   2.4. [Entstehungszeit der Forschungsdaten](#2.4)\n",
    "\n",
    "   2.5. [Verteilung der Publisher](#2.5)\n",
    "\n",
    "   2.6. [Verteilung der Lizenzangaben](#2.6)\n",
    "\n",
    "3. [Word Clouds](#3)\n",
    "\n",
    "4. [Bi- und multivariate Plots](#4)"
   ]
  },
  {
   "cell_type": "markdown",
   "metadata": {},
   "source": [
    "<a id=\"1\"></a>\n",
    "## 1 Statistische Beschreibung des Datensatzes\n",
    "\n",
    "[Zurück zum Anfang](#0)"
   ]
  },
  {
   "cell_type": "code",
   "execution_count": null,
   "metadata": {
    "vscode": {
     "languageId": "plaintext"
    }
   },
   "outputs": [],
   "source": [
    "# Importieren der Bibliotheken\n",
    "import pandas as pd\n",
    "import seaborn as sns\n",
    "import matplotlib.pyplot as plt\n",
    "from wordcloud import WordCloud\n",
    "\n",
    "# Laden der Daten\n",
    "data_lac = pd.read_csv(r'../../data/refined/clarin/lac/lac-records-20240620_refined.csv')\n",
    "# Umwandeln der Datentypen der Zeitangaben in datetime-Objekte\n",
    "data_lac[['date', 'datestamp']] = data_lac[['date', 'datestamp']].apply(pd.to_datetime, errors='coerce')"
   ]
  },
  {
   "cell_type": "markdown",
   "metadata": {},
   "source": [
    "<a id=\"2\"></a>\n",
    "## 2 Univariate Plots\n",
    "\n",
    "[Zurück zum Anfang](#0)\n"
   ]
  },
  {
   "cell_type": "markdown",
   "metadata": {},
   "source": [
    "<a id=\"2.1\"></a>\n",
    "### 2.1 Erstellung von Forschungsdaten im Zeitverlauf\n",
    "[Zurück zum Anfang](#0)"
   ]
  },
  {
   "cell_type": "markdown",
   "metadata": {},
   "source": [
    "<a id=\"2.2\"></a>\n",
    "### 2.2 Verteilung der Urheberschaft\n",
    "\n",
    "[Zurück zum Anfang](#0)"
   ]
  },
  {
   "cell_type": "markdown",
   "metadata": {},
   "source": [
    "<a id=\"2.3\"></a>\n",
    "### 2.3 Sprachverteilung der Forschungsdaten\n",
    "\n",
    "[Zurück zum Anfang](#0)"
   ]
  },
  {
   "cell_type": "markdown",
   "metadata": {},
   "source": [
    "### 2.4 Entstehungszeit der Forschungsdaten\n",
    "\n",
    "[Zurück zum Anfang](#0)"
   ]
  },
  {
   "cell_type": "markdown",
   "metadata": {},
   "source": [
    "<a id=\"2.5\"></a>\n",
    "### 2.5 Verteilung der Publisher\n",
    "\n",
    "[Zurück zum Anfang](#0)"
   ]
  },
  {
   "cell_type": "markdown",
   "metadata": {},
   "source": [
    "<a id=\"2.6\"></a>\n",
    "### 2.6 Verteilung der Lizenzangaben\n",
    "\n",
    "[Zurück zum Anfang](#0)"
   ]
  }
 ],
 "metadata": {
  "language_info": {
   "name": "python"
  }
 },
 "nbformat": 4,
 "nbformat_minor": 2
}
