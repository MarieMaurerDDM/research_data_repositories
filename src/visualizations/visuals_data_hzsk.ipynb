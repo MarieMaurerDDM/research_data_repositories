{
 "cells": [
  {
   "cell_type": "markdown",
   "metadata": {},
   "source": [
    "# Forschungsdaten des  Hamburger Zentrum für Sprachkorpora (HZSK)"
   ]
  },
  {
   "cell_type": "markdown",
   "metadata": {},
   "source": [
    "<a id=\"0\"></a>\n",
    "## Inhalt\n",
    "\n",
    "1. [Statistische Beschreibung des Datensatzes](#1)\n",
    "\n",
    "2. [Univariate Plots](#2)\n",
    "\n",
    "   2.1. [Erstellung von Forschungsdaten im Zeitverlauf](#2.1)\n",
    "   \n",
    "   2.2. [Verteilung der Urheberschaft](#2.2)\n",
    "\n",
    "   2.3. [Sprachverteilung](#2.3)\n",
    "\n",
    "   2.4. [Entstehungszeit der Forschungsdaten](#2.4)\n",
    "\n",
    "   2.5. [Verteilung der Verleger](#2.5)\n",
    "\n",
    "   2.6. [...]\n",
    "\n",
    "3. [...]"
   ]
  },
  {
   "cell_type": "markdown",
   "metadata": {},
   "source": [
    "<a id=\"1\"></a>\n",
    "## 1 Statistische Beschreibung des Datensatzes\n",
    "\n",
    "[Zurück zum Anfang](#0)"
   ]
  },
  {
   "cell_type": "markdown",
   "metadata": {},
   "source": [
    "<a id=\"2\"></a>\n",
    "## 2 Univariate Plots\n",
    "\n",
    "[Zurück zum Anfang](#0)\n"
   ]
  },
  {
   "cell_type": "markdown",
   "metadata": {},
   "source": [
    "<a id=\"2.1\"></a>\n",
    "### 2.1 Erstellung von Forschungsdaten im Zeitverlauf\n",
    "[Zurück zum Anfang](#0)"
   ]
  },
  {
   "cell_type": "markdown",
   "metadata": {},
   "source": [
    "<a id=\"2.2\"></a>\n",
    "### 2.2 Verteilung der Urheberschaft\n",
    "\n",
    "[Zurück zum Anfang](#0)"
   ]
  },
  {
   "cell_type": "markdown",
   "metadata": {},
   "source": [
    "<a id=\"2.3\"></a>\n",
    "### 2.3 Sprachverteilung der Forschungsdaten\n",
    "\n",
    "[Zurück zum Anfang](#0)"
   ]
  },
  {
   "cell_type": "markdown",
   "metadata": {},
   "source": [
    "### 2.4 Entstehungszeit der Forschungsdaten\n",
    "\n",
    "[Zurück zum Anfang](#0)"
   ]
  },
  {
   "cell_type": "markdown",
   "metadata": {},
   "source": [
    "<a id=\"2.5\"></a>\n",
    "### 2.5 Verteilung der Publisher\n",
    "\n",
    "[Zurück zum Anfang](#0)"
   ]
  },
  {
   "cell_type": "markdown",
   "metadata": {},
   "source": [
    "<a id=\"2.6\"></a>\n",
    "### 2.6 Verteilung der Lizenzangaben\n",
    "\n",
    "[Zurück zum Anfang](#0)"
   ]
  }
 ],
 "metadata": {
  "language_info": {
   "name": "python"
  }
 },
 "nbformat": 4,
 "nbformat_minor": 2
}
