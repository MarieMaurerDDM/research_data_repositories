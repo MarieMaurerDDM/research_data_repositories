{
 "cells": [
  {
   "cell_type": "markdown",
   "metadata": {},
   "source": [
    "# Forschungsdaten des Language Archive Cologne (LAC)"
   ]
  },
  {
   "cell_type": "markdown",
   "metadata": {},
   "source": [
    "## Statistische Beschreibung"
   ]
  },
  {
   "cell_type": "code",
   "execution_count": null,
   "metadata": {},
   "outputs": [],
   "source": []
  },
  {
   "cell_type": "code",
   "execution_count": 20,
   "metadata": {},
   "outputs": [],
   "source": [
    "import pandas as pd\n",
    "import seaborn as sns\n",
    "import matplotlib.pyplot as plt\n",
    "\n",
    "# Laden der Daten\n",
    "data_lac = pd.read_csv(r'../../data/refined/clarin/lac/lac-records-20240620_refined.csv')\n",
    "# Umwandeln der Datentypen der Zeitangaben in datetime-Objekte\n",
    "data_lac[['date', 'datestamp']] = data_lac[['date', 'datestamp']].apply(pd.to_datetime, errors='coerce')"
   ]
  },
  {
   "cell_type": "code",
   "execution_count": 21,
   "metadata": {},
   "outputs": [
    {
     "name": "stdout",
     "output_type": "stream",
     "text": [
      "<class 'pandas.core.frame.DataFrame'>\n",
      "RangeIndex: 648 entries, 0 to 647\n",
      "Data columns (total 12 columns):\n",
      " #   Column                      Non-Null Count  Dtype              \n",
      "---  ------                      --------------  -----              \n",
      " 0   datestamp                   100 non-null    datetime64[ns, UTC]\n",
      " 1   relation                    644 non-null    object             \n",
      " 2   creator                     125 non-null    object             \n",
      " 3   language                    104 non-null    object             \n",
      " 4   identifier                  100 non-null    object             \n",
      " 5   title                       100 non-null    object             \n",
      " 6   description                 100 non-null    object             \n",
      " 7   date                        97 non-null     datetime64[ns, UTC]\n",
      " 8   publisher                   100 non-null    object             \n",
      " 9   rights                      51 non-null     object             \n",
      " 10  type                        11 non-null     object             \n",
      " 11  type - dcmi recommendation  11 non-null     object             \n",
      "dtypes: datetime64[ns, UTC](2), object(10)\n",
      "memory usage: 60.9+ KB\n"
     ]
    }
   ],
   "source": [
    "data_lac.info() # Spaltennamen, Datentypen und fehlende Werte anzeigen"
   ]
  },
  {
   "cell_type": "code",
   "execution_count": 8,
   "metadata": {},
   "outputs": [
    {
     "data": {
      "text/html": [
       "<div>\n",
       "<style scoped>\n",
       "    .dataframe tbody tr th:only-of-type {\n",
       "        vertical-align: middle;\n",
       "    }\n",
       "\n",
       "    .dataframe tbody tr th {\n",
       "        vertical-align: top;\n",
       "    }\n",
       "\n",
       "    .dataframe thead th {\n",
       "        text-align: right;\n",
       "    }\n",
       "</style>\n",
       "<table border=\"1\" class=\"dataframe\">\n",
       "  <thead>\n",
       "    <tr style=\"text-align: right;\">\n",
       "      <th></th>\n",
       "      <th>datestamp</th>\n",
       "      <th>relation</th>\n",
       "      <th>creator</th>\n",
       "      <th>language</th>\n",
       "      <th>identifier</th>\n",
       "      <th>title</th>\n",
       "      <th>description</th>\n",
       "      <th>date</th>\n",
       "      <th>publisher</th>\n",
       "      <th>rights</th>\n",
       "      <th>type</th>\n",
       "      <th>type - dcmi recommendation</th>\n",
       "    </tr>\n",
       "  </thead>\n",
       "  <tbody>\n",
       "    <tr>\n",
       "      <th>count</th>\n",
       "      <td>100</td>\n",
       "      <td>644</td>\n",
       "      <td>125</td>\n",
       "      <td>104</td>\n",
       "      <td>100</td>\n",
       "      <td>100</td>\n",
       "      <td>100</td>\n",
       "      <td>100</td>\n",
       "      <td>100</td>\n",
       "      <td>51</td>\n",
       "      <td>11</td>\n",
       "      <td>11</td>\n",
       "    </tr>\n",
       "    <tr>\n",
       "      <th>unique</th>\n",
       "      <td>1</td>\n",
       "      <td>644</td>\n",
       "      <td>38</td>\n",
       "      <td>17</td>\n",
       "      <td>100</td>\n",
       "      <td>100</td>\n",
       "      <td>84</td>\n",
       "      <td>71</td>\n",
       "      <td>2</td>\n",
       "      <td>5</td>\n",
       "      <td>1</td>\n",
       "      <td>1</td>\n",
       "    </tr>\n",
       "    <tr>\n",
       "      <th>top</th>\n",
       "      <td>2020-02-05T15:15:01Z</td>\n",
       "      <td>hdl:11341/0000-0000-0000-3666</td>\n",
       "      <td>Issak Cheikh Oukafi</td>\n",
       "      <td>taq</td>\n",
       "      <td>hdl:11341/0000-0000-0000-35D9</td>\n",
       "      <td>OH-Interview with Albert C.</td>\n",
       "      <td>Recording by Asangba Reginald Taluah for Ph.D ...</td>\n",
       "      <td>2015-05-01T00:00:00Z</td>\n",
       "      <td>LAC</td>\n",
       "      <td>CC BY</td>\n",
       "      <td>collection</td>\n",
       "      <td>collection</td>\n",
       "    </tr>\n",
       "    <tr>\n",
       "      <th>freq</th>\n",
       "      <td>100</td>\n",
       "      <td>1</td>\n",
       "      <td>22</td>\n",
       "      <td>22</td>\n",
       "      <td>1</td>\n",
       "      <td>1</td>\n",
       "      <td>6</td>\n",
       "      <td>8</td>\n",
       "      <td>99</td>\n",
       "      <td>20</td>\n",
       "      <td>11</td>\n",
       "      <td>11</td>\n",
       "    </tr>\n",
       "  </tbody>\n",
       "</table>\n",
       "</div>"
      ],
      "text/plain": [
       "                   datestamp                       relation  \\\n",
       "count                    100                            644   \n",
       "unique                     1                            644   \n",
       "top     2020-02-05T15:15:01Z  hdl:11341/0000-0000-0000-3666   \n",
       "freq                     100                              1   \n",
       "\n",
       "                    creator language                     identifier  \\\n",
       "count                   125      104                            100   \n",
       "unique                   38       17                            100   \n",
       "top     Issak Cheikh Oukafi      taq  hdl:11341/0000-0000-0000-35D9   \n",
       "freq                     22       22                              1   \n",
       "\n",
       "                              title  \\\n",
       "count                           100   \n",
       "unique                          100   \n",
       "top     OH-Interview with Albert C.   \n",
       "freq                              1   \n",
       "\n",
       "                                              description  \\\n",
       "count                                                 100   \n",
       "unique                                                 84   \n",
       "top     Recording by Asangba Reginald Taluah for Ph.D ...   \n",
       "freq                                                    6   \n",
       "\n",
       "                        date publisher rights        type  \\\n",
       "count                    100       100     51          11   \n",
       "unique                    71         2      5           1   \n",
       "top     2015-05-01T00:00:00Z       LAC  CC BY  collection   \n",
       "freq                       8        99     20          11   \n",
       "\n",
       "       type - dcmi recommendation  \n",
       "count                          11  \n",
       "unique                          1  \n",
       "top                    collection  \n",
       "freq                           11  "
      ]
     },
     "execution_count": 8,
     "metadata": {},
     "output_type": "execute_result"
    }
   ],
   "source": [
    "data_lac.describe() # statistische Kennzahlen anzeigen"
   ]
  },
  {
   "cell_type": "markdown",
   "metadata": {},
   "source": [
    "## Univariate Plots\n",
    "\n",
    "- creator\n",
    "- language\n",
    "- title\n",
    "- date\n",
    "- publisher\n",
    "- rights\n",
    "- type\n"
   ]
  },
  {
   "cell_type": "code",
   "execution_count": 48,
   "metadata": {},
   "outputs": [
    {
     "ename": "TypeError",
     "evalue": "unsupported operand type(s) for *: 'int' and 'dict'",
     "output_type": "error",
     "traceback": [
      "\u001b[1;31m---------------------------------------------------------------------------\u001b[0m",
      "\u001b[1;31mTypeError\u001b[0m                                 Traceback (most recent call last)",
      "Cell \u001b[1;32mIn[48], line 2\u001b[0m\n\u001b[0;32m      1\u001b[0m sns\u001b[38;5;241m.\u001b[39mset_theme(style\u001b[38;5;241m=\u001b[39m\u001b[38;5;124m'\u001b[39m\u001b[38;5;124mwhitegrid\u001b[39m\u001b[38;5;124m'\u001b[39m) \u001b[38;5;66;03m# seaborn-Design setzen\u001b[39;00m\n\u001b[1;32m----> 2\u001b[0m \u001b[43msns\u001b[49m\u001b[38;5;241;43m.\u001b[39;49m\u001b[43mset_context\u001b[49m\u001b[43m(\u001b[49m\u001b[38;5;124;43m'\u001b[39;49m\u001b[38;5;124;43mnotebook\u001b[39;49m\u001b[38;5;124;43m'\u001b[39;49m\u001b[43m,\u001b[49m\u001b[43m \u001b[49m\u001b[43m{\u001b[49m\u001b[38;5;124;43m'\u001b[39;49m\u001b[38;5;124;43mgrid.linewidth\u001b[39;49m\u001b[38;5;124;43m'\u001b[39;49m\u001b[43m:\u001b[49m\u001b[43m \u001b[49m\u001b[38;5;241;43m0.5\u001b[39;49m\u001b[43m}\u001b[49m\u001b[43m)\u001b[49m \u001b[38;5;66;03m# seaborn-Design setzen\u001b[39;00m\n\u001b[0;32m      3\u001b[0m sns\u001b[38;5;241m.\u001b[39mdisplot(data_lac, x\u001b[38;5;241m=\u001b[39m\u001b[38;5;124m'\u001b[39m\u001b[38;5;124mdate\u001b[39m\u001b[38;5;124m'\u001b[39m, bins\u001b[38;5;241m=\u001b[39m\u001b[38;5;241m20\u001b[39m, color \u001b[38;5;241m=\u001b[39m \u001b[38;5;124m'\u001b[39m\u001b[38;5;124mpurple\u001b[39m\u001b[38;5;124m'\u001b[39m) \u001b[38;5;66;03m# Histogramm der Zeitangaben\u001b[39;00m\n",
      "File \u001b[1;32mc:\\Users\\miema\\Research_Data_Repositories\\.venv\\Lib\\site-packages\\seaborn\\rcmod.py:468\u001b[0m, in \u001b[0;36mset_context\u001b[1;34m(context, font_scale, rc)\u001b[0m\n\u001b[0;32m    435\u001b[0m \u001b[38;5;28;01mdef\u001b[39;00m \u001b[38;5;21mset_context\u001b[39m(context\u001b[38;5;241m=\u001b[39m\u001b[38;5;28;01mNone\u001b[39;00m, font_scale\u001b[38;5;241m=\u001b[39m\u001b[38;5;241m1\u001b[39m, rc\u001b[38;5;241m=\u001b[39m\u001b[38;5;28;01mNone\u001b[39;00m):\n\u001b[0;32m    436\u001b[0m \u001b[38;5;250m    \u001b[39m\u001b[38;5;124;03m\"\"\"\u001b[39;00m\n\u001b[0;32m    437\u001b[0m \u001b[38;5;124;03m    Set the parameters that control the scaling of plot elements.\u001b[39;00m\n\u001b[0;32m    438\u001b[0m \n\u001b[1;32m   (...)\u001b[0m\n\u001b[0;32m    466\u001b[0m \n\u001b[0;32m    467\u001b[0m \u001b[38;5;124;03m    \"\"\"\u001b[39;00m\n\u001b[1;32m--> 468\u001b[0m     context_object \u001b[38;5;241m=\u001b[39m \u001b[43mplotting_context\u001b[49m\u001b[43m(\u001b[49m\u001b[43mcontext\u001b[49m\u001b[43m,\u001b[49m\u001b[43m \u001b[49m\u001b[43mfont_scale\u001b[49m\u001b[43m,\u001b[49m\u001b[43m \u001b[49m\u001b[43mrc\u001b[49m\u001b[43m)\u001b[49m\n\u001b[0;32m    469\u001b[0m     mpl\u001b[38;5;241m.\u001b[39mrcParams\u001b[38;5;241m.\u001b[39mupdate(context_object)\n",
      "File \u001b[1;32mc:\\Users\\miema\\Research_Data_Repositories\\.venv\\Lib\\site-packages\\seaborn\\rcmod.py:421\u001b[0m, in \u001b[0;36mplotting_context\u001b[1;34m(context, font_scale, rc)\u001b[0m\n\u001b[0;32m    419\u001b[0m     \u001b[38;5;66;03m# Now independently scale the fonts\u001b[39;00m\n\u001b[0;32m    420\u001b[0m     font_keys \u001b[38;5;241m=\u001b[39m texts_base_context\u001b[38;5;241m.\u001b[39mkeys()\n\u001b[1;32m--> 421\u001b[0m     font_dict \u001b[38;5;241m=\u001b[39m \u001b[43m{\u001b[49m\u001b[43mk\u001b[49m\u001b[43m:\u001b[49m\u001b[43m \u001b[49m\u001b[43mcontext_dict\u001b[49m\u001b[43m[\u001b[49m\u001b[43mk\u001b[49m\u001b[43m]\u001b[49m\u001b[43m \u001b[49m\u001b[38;5;241;43m*\u001b[39;49m\u001b[43m \u001b[49m\u001b[43mfont_scale\u001b[49m\u001b[43m \u001b[49m\u001b[38;5;28;43;01mfor\u001b[39;49;00m\u001b[43m \u001b[49m\u001b[43mk\u001b[49m\u001b[43m \u001b[49m\u001b[38;5;129;43;01min\u001b[39;49;00m\u001b[43m \u001b[49m\u001b[43mfont_keys\u001b[49m\u001b[43m}\u001b[49m\n\u001b[0;32m    422\u001b[0m     context_dict\u001b[38;5;241m.\u001b[39mupdate(font_dict)\n\u001b[0;32m    424\u001b[0m \u001b[38;5;66;03m# Override these settings with the provided rc dictionary\u001b[39;00m\n",
      "File \u001b[1;32mc:\\Users\\miema\\Research_Data_Repositories\\.venv\\Lib\\site-packages\\seaborn\\rcmod.py:421\u001b[0m, in \u001b[0;36m<dictcomp>\u001b[1;34m(.0)\u001b[0m\n\u001b[0;32m    419\u001b[0m     \u001b[38;5;66;03m# Now independently scale the fonts\u001b[39;00m\n\u001b[0;32m    420\u001b[0m     font_keys \u001b[38;5;241m=\u001b[39m texts_base_context\u001b[38;5;241m.\u001b[39mkeys()\n\u001b[1;32m--> 421\u001b[0m     font_dict \u001b[38;5;241m=\u001b[39m {k: \u001b[43mcontext_dict\u001b[49m\u001b[43m[\u001b[49m\u001b[43mk\u001b[49m\u001b[43m]\u001b[49m\u001b[43m \u001b[49m\u001b[38;5;241;43m*\u001b[39;49m\u001b[43m \u001b[49m\u001b[43mfont_scale\u001b[49m \u001b[38;5;28;01mfor\u001b[39;00m k \u001b[38;5;129;01min\u001b[39;00m font_keys}\n\u001b[0;32m    422\u001b[0m     context_dict\u001b[38;5;241m.\u001b[39mupdate(font_dict)\n\u001b[0;32m    424\u001b[0m \u001b[38;5;66;03m# Override these settings with the provided rc dictionary\u001b[39;00m\n",
      "\u001b[1;31mTypeError\u001b[0m: unsupported operand type(s) for *: 'int' and 'dict'"
     ]
    }
   ],
   "source": [
    "sns.set_theme(style='whitegrid') # seaborn-Design setzen\n",
    "sns.set_context('notebook', {'grid.linewidth': 0.5}) # seaborn-Design setzen\n",
    "sns.displot(data_lac, x='date', bins=20, color = 'purple') # Histogramm der Zeitangaben\n"
   ]
  },
  {
   "cell_type": "code",
   "execution_count": 45,
   "metadata": {},
   "outputs": [
    {
     "data": {
      "text/plain": [
       "{'font.size': 12.0,\n",
       " 'axes.labelsize': 12.0,\n",
       " 'axes.titlesize': 12.0,\n",
       " 'xtick.labelsize': 11.0,\n",
       " 'ytick.labelsize': 11.0,\n",
       " 'legend.fontsize': 11.0,\n",
       " 'legend.title_fontsize': 12.0,\n",
       " 'axes.linewidth': 1.25,\n",
       " 'grid.linewidth': 1.0,\n",
       " 'lines.linewidth': 1.5,\n",
       " 'lines.markersize': 6.0,\n",
       " 'patch.linewidth': 1.0,\n",
       " 'xtick.major.width': 1.25,\n",
       " 'ytick.major.width': 1.25,\n",
       " 'xtick.minor.width': 1.0,\n",
       " 'ytick.minor.width': 1.0,\n",
       " 'xtick.major.size': 6.0,\n",
       " 'ytick.major.size': 6.0,\n",
       " 'xtick.minor.size': 4.0,\n",
       " 'ytick.minor.size': 4.0}"
      ]
     },
     "execution_count": 45,
     "metadata": {},
     "output_type": "execute_result"
    }
   ],
   "source": [
    "sns.axes_style()\n",
    "sns.plotting_context()"
   ]
  },
  {
   "cell_type": "markdown",
   "metadata": {},
   "source": [
    "## Bi- und multivariate Plots"
   ]
  },
  {
   "cell_type": "markdown",
   "metadata": {},
   "source": [
    "## Word Clouds"
   ]
  }
 ],
 "metadata": {
  "kernelspec": {
   "display_name": ".venv",
   "language": "python",
   "name": "python3"
  },
  "language_info": {
   "codemirror_mode": {
    "name": "ipython",
    "version": 3
   },
   "file_extension": ".py",
   "mimetype": "text/x-python",
   "name": "python",
   "nbconvert_exporter": "python",
   "pygments_lexer": "ipython3",
   "version": "3.11.8"
  }
 },
 "nbformat": 4,
 "nbformat_minor": 2
}
